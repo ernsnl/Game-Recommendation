{
 "cells": [
  {
   "cell_type": "markdown",
   "metadata": {
    "deletable": true,
    "editable": true
   },
   "source": [
    "# Sentiment Analysis For Steam Games\n",
    "\n",
    "Data is collected by scrapy web spider.\n",
    "\n",
    "We need to organize the data and remove unnecessary elements such as punctuation and new line characters. "
   ]
  },
  {
   "cell_type": "code",
   "execution_count": 75,
   "metadata": {
    "collapsed": false,
    "deletable": true,
    "editable": true
   },
   "outputs": [],
   "source": [
    "import numpy as np\n",
    "import tensorflow\n",
    "import json"
   ]
  },
  {
   "cell_type": "markdown",
   "metadata": {
    "deletable": true,
    "editable": true
   },
   "source": [
    "## Reading and Preparing Data\n",
    "\n",
    "Creating genre combination as one-hot vector so that classification would be correct.\n",
    "\n",
    "* Can differentiate between action and action adventure as genre. "
   ]
  },
  {
   "cell_type": "code",
   "execution_count": 76,
   "metadata": {
    "collapsed": false,
    "deletable": true,
    "editable": true
   },
   "outputs": [],
   "source": [
    "with open('Steam-Data/steam_genres.json', 'r') as f:\n",
    "    genres = f.read()"
   ]
  },
  {
   "cell_type": "code",
   "execution_count": 77,
   "metadata": {
    "collapsed": false,
    "deletable": true,
    "editable": true
   },
   "outputs": [],
   "source": [
    "genres = json.loads(genres)"
   ]
  },
  {
   "cell_type": "code",
   "execution_count": 106,
   "metadata": {
    "collapsed": false,
    "deletable": true,
    "editable": true
   },
   "outputs": [],
   "source": [
    "genre_list = [genre['genre'] for genre in genres]\n",
    "genre_list.sort()"
   ]
  },
  {
   "cell_type": "code",
   "execution_count": 107,
   "metadata": {
    "collapsed": false,
    "deletable": true,
    "editable": true
   },
   "outputs": [],
   "source": [
    "# Usually games combines two or three genres together, but in some rare instances games combine 5 genres\n",
    "# Let's set the maximum value for the genre to 5\n",
    "# We would have some managable genre labels.\n",
    "import itertools\n",
    "genre_length = len(genre_list) if genre_list == 2 else 2"
   ]
  },
  {
   "cell_type": "code",
   "execution_count": 108,
   "metadata": {
    "collapsed": false,
    "deletable": true,
    "editable": true
   },
   "outputs": [],
   "source": [
    "total_labels = []\n",
    "for i in range(1, genre_length):\n",
    "    combination_of_genres = list(itertools.combinations(genre_list, i))\n",
    "    for combined_genre in combination_of_genres:\n",
    "        label = ' '.join(combined_genre)\n",
    "        total_labels.append(label)"
   ]
  },
  {
   "cell_type": "code",
   "execution_count": 113,
   "metadata": {
    "collapsed": false,
    "deletable": true,
    "editable": true
   },
   "outputs": [
    {
     "data": {
      "text/plain": [
       "12"
      ]
     },
     "execution_count": 113,
     "metadata": {},
     "output_type": "execute_result"
    }
   ],
   "source": [
    "labels_length = len(total_labels)\n",
    "labels_length"
   ]
  },
  {
   "cell_type": "code",
   "execution_count": 114,
   "metadata": {
    "collapsed": true,
    "deletable": true,
    "editable": true
   },
   "outputs": [],
   "source": [
    "# One-hot encoded labels would be equal to identity matrix with length of the total_labels\n",
    "output = np.identity(labels_length)"
   ]
  },
  {
   "cell_type": "code",
   "execution_count": 115,
   "metadata": {
    "collapsed": false,
    "deletable": true,
    "editable": true
   },
   "outputs": [
    {
     "data": {
      "text/plain": [
       "array([[ 1.,  0.,  0.,  0.,  0.,  0.,  0.,  0.,  0.,  0.,  0.,  0.],\n",
       "       [ 0.,  1.,  0.,  0.,  0.,  0.,  0.,  0.,  0.,  0.,  0.,  0.],\n",
       "       [ 0.,  0.,  1.,  0.,  0.,  0.,  0.,  0.,  0.,  0.,  0.,  0.],\n",
       "       [ 0.,  0.,  0.,  1.,  0.,  0.,  0.,  0.,  0.,  0.,  0.,  0.],\n",
       "       [ 0.,  0.,  0.,  0.,  1.,  0.,  0.,  0.,  0.,  0.,  0.,  0.],\n",
       "       [ 0.,  0.,  0.,  0.,  0.,  1.,  0.,  0.,  0.,  0.,  0.,  0.],\n",
       "       [ 0.,  0.,  0.,  0.,  0.,  0.,  1.,  0.,  0.,  0.,  0.,  0.],\n",
       "       [ 0.,  0.,  0.,  0.,  0.,  0.,  0.,  1.,  0.,  0.,  0.,  0.],\n",
       "       [ 0.,  0.,  0.,  0.,  0.,  0.,  0.,  0.,  1.,  0.,  0.,  0.],\n",
       "       [ 0.,  0.,  0.,  0.,  0.,  0.,  0.,  0.,  0.,  1.,  0.,  0.],\n",
       "       [ 0.,  0.,  0.,  0.,  0.,  0.,  0.,  0.,  0.,  0.,  1.,  0.],\n",
       "       [ 0.,  0.,  0.,  0.,  0.,  0.,  0.,  0.,  0.,  0.,  0.,  1.]])"
      ]
     },
     "execution_count": 115,
     "metadata": {},
     "output_type": "execute_result"
    }
   ],
   "source": [
    "output"
   ]
  },
  {
   "cell_type": "code",
   "execution_count": 116,
   "metadata": {
    "collapsed": true,
    "deletable": true,
    "editable": true
   },
   "outputs": [],
   "source": [
    "# Preparing the game data\n",
    "with open('Steam-Data/steam_game_data.json', 'r') as f:\n",
    "    games = f.read()"
   ]
  },
  {
   "cell_type": "code",
   "execution_count": 117,
   "metadata": {
    "collapsed": true,
    "deletable": true,
    "editable": true
   },
   "outputs": [],
   "source": [
    "games = json.loads(games)"
   ]
  },
  {
   "cell_type": "code",
   "execution_count": 118,
   "metadata": {
    "collapsed": false,
    "deletable": true,
    "editable": true
   },
   "outputs": [],
   "source": [
    "game_url = [game['url'] for game in games]"
   ]
  },
  {
   "cell_type": "code",
   "execution_count": 119,
   "metadata": {
    "collapsed": false,
    "deletable": true,
    "editable": true
   },
   "outputs": [],
   "source": [
    "# Extracting appid from the url\n",
    "import re\n",
    "game_app_id = []\n",
    "for i, url in enumerate(game_url):\n",
    "    match = re.search(\"http://store.steampowered.com/app/(.+?)/\", url)\n",
    "    if match:\n",
    "        game_app_id.append(match.group(1))\n",
    "    else:\n",
    "        # Removing sub products\n",
    "        del games[i]"
   ]
  },
  {
   "cell_type": "code",
   "execution_count": 120,
   "metadata": {
    "collapsed": false,
    "deletable": true,
    "editable": true
   },
   "outputs": [
    {
     "data": {
      "text/plain": [
       "True"
      ]
     },
     "execution_count": 120,
     "metadata": {},
     "output_type": "execute_result"
    }
   ],
   "source": [
    "len(games) == len(game_app_id)"
   ]
  },
  {
   "cell_type": "code",
   "execution_count": 121,
   "metadata": {
    "collapsed": false,
    "deletable": true,
    "editable": true
   },
   "outputs": [
    {
     "data": {
      "text/plain": [
       "14776"
      ]
     },
     "execution_count": 121,
     "metadata": {},
     "output_type": "execute_result"
    }
   ],
   "source": [
    "len(games)"
   ]
  },
  {
   "cell_type": "code",
   "execution_count": 122,
   "metadata": {
    "collapsed": true,
    "deletable": true,
    "editable": true
   },
   "outputs": [],
   "source": [
    "game_length = len(games)"
   ]
  },
  {
   "cell_type": "markdown",
   "metadata": {},
   "source": [
    "### Combine all description and about page of the game\n",
    "\n",
    "Description is short information and about has some of the key feautures of the game combining them will help us to correctly categorize them"
   ]
  },
  {
   "cell_type": "code",
   "execution_count": 123,
   "metadata": {
    "collapsed": false,
    "deletable": true,
    "editable": true
   },
   "outputs": [
    {
     "data": {
      "text/plain": [
       "\"PLAYERUNKNOWN'S BATTLEGROUNDS is a last-man-standing shooter being developed with community feedback. Players must fight to locate weapons and supplies in a massive 8x8 km island to be the lone survivor. This is BATTLE ROYALE.   is a last-man-standing shooter being developed with community feedback. Starting with nothing, players must fight to locate weapons and supplies in a battle to be the lone survivor. This realistic, high tension game is set on a massive 8x8 km island with a level of detail that showcases Unreal Engine 4's capabilities. aka Brendan Greene, is a pioneer of the Battle Royale genre. As the creator of the Battle Royale game-mode found in the ARMA series and H1Z1 : King of the Kill, Greene is co-developing the game with veteran team at Bluehole to create the most diverse and robust Battle Royale experience to date \""
      ]
     },
     "execution_count": 123,
     "metadata": {},
     "output_type": "execute_result"
    }
   ],
   "source": [
    "game_description_information = [game['description'] for game in games]\n",
    "game_about_information = [game['about'] for game in games]\n",
    "\n",
    "joined_about_array = []\n",
    "for game_about_array in game_about_information:\n",
    "    striped_elements = [element.strip() for element in game_about_array]\n",
    "    joined_about_array.append(' '.join(striped_elements))\n",
    "\n",
    "combine_words = []\n",
    "for i in range(game_length):\n",
    "    stripped_game_description = str(game_description_information[i]).strip()\n",
    "    combine_words.append(stripped_game_description + ' ' + joined_about_array[i])\n",
    "\n",
    "combine_words[0]"
   ]
  },
  {
   "cell_type": "code",
   "execution_count": 124,
   "metadata": {
    "collapsed": false
   },
   "outputs": [
    {
     "data": {
      "text/plain": [
       "'PLAYERUNKNOWNS BATTLEGROUNDS is a lastmanstanding shooter being developed with community feedback Players must fight to locate weapons and supplies in a massive 8x8 km island to be the lone survivor This is BATTLE ROYALE   is a lastmanstanding shooter being developed with community feedback Starting with nothing players must fight to locate weapons and supplies in a battle to be the lone survivor This realistic high tension game is set on a massive 8x8 km island with a level of detail that showcases Unreal Engine 4s capabilities aka Brendan Greene is a pioneer of the Battle Royale genre As the creator of the Battle Royale gamemode found in the ARMA series and H1Z1  King of the Kill Greene is codeveloping the game with veteran team at Bluehole to create the most diverse and robust Battle Royale experience to date '"
      ]
     },
     "execution_count": 124,
     "metadata": {},
     "output_type": "execute_result"
    }
   ],
   "source": [
    "import re\n",
    "game_information = []\n",
    "for combine in combine_words[:1]:\n",
    "    words_in_combine = combine.split(' ')\n",
    "    individual_game_info = ' '.join([re.sub('[^0-9a-zA-Z]+', '', word) for word in words_in_combine])\n",
    "    game_information.append(individual_game_info)\n",
    "\n",
    "game_information[0]"
   ]
  },
  {
   "cell_type": "markdown",
   "metadata": {},
   "source": [
    "### Creating word dictionary for games\n",
    "\n",
    "After combining all of the description and about pages, let's create a dictionary for all the words"
   ]
  },
  {
   "cell_type": "code",
   "execution_count": 125,
   "metadata": {
    "collapsed": false
   },
   "outputs": [
    {
     "data": {
      "text/plain": [
       "['PLAYERUNKNOWNS',\n",
       " 'BATTLEGROUNDS',\n",
       " 'is',\n",
       " 'a',\n",
       " 'lastmanstanding',\n",
       " 'shooter',\n",
       " 'being',\n",
       " 'developed',\n",
       " 'with',\n",
       " 'community',\n",
       " 'feedback',\n",
       " 'Players',\n",
       " 'must',\n",
       " 'fight',\n",
       " 'to',\n",
       " 'locate',\n",
       " 'weapons',\n",
       " 'and',\n",
       " 'supplies',\n",
       " 'in',\n",
       " 'a',\n",
       " 'massive',\n",
       " '8x8',\n",
       " 'km',\n",
       " 'island']"
      ]
     },
     "execution_count": 125,
     "metadata": {},
     "output_type": "execute_result"
    }
   ],
   "source": [
    "all_text = ' '.join(game_information)\n",
    "all_words = all_text.split(' ')\n",
    "all_words[:25]"
   ]
  },
  {
   "cell_type": "markdown",
   "metadata": {},
   "source": [
    "### Encoding the words\n",
    "\n",
    "All of the words needs to be converted into numbers that NN can  understand"
   ]
  },
  {
   "cell_type": "code",
   "execution_count": 126,
   "metadata": {
    "collapsed": false
   },
   "outputs": [],
   "source": [
    "from collections import Counter\n",
    "word_counter = Counter(all_words)\n",
    "vocab = sorted(word_counter, key=word_counter.get, reverse=True)\n",
    "vocab_to_int = {word: ii for ii, word in enumerate(vocab, 1)}\n",
    "\n",
    "game_info_to_ints = []\n",
    "for each in game_information:\n",
    "    game_info_to_ints.append([vocab_to_int[word] for word in each.split()])\n"
   ]
  },
  {
   "cell_type": "markdown",
   "metadata": {},
   "source": [
    "### Encoding Genres\n",
    "\n",
    "All of the genres must be encoded so we can use that"
   ]
  },
  {
   "cell_type": "code",
   "execution_count": 141,
   "metadata": {
    "collapsed": false
   },
   "outputs": [],
   "source": [
    "genres_to_int = {genre: i for i, genre in enumerate(genre_list)}\n",
    "\n",
    "game_genres = [sorted(game['genres']) for game in games]\n",
    "game_genres_to_int = []\n",
    "for game_genre in game_genres:\n",
    "    game_genre_coding = []\n",
    "    for genre in genre_list:\n",
    "        game_genre_encoding = 1 if genre in game_genre else 0\n",
    "        game_genre_coding.append(game_genre_encoding)\n",
    "    game_genres_to_int.append(game_genre_coding)"
   ]
  },
  {
   "cell_type": "code",
   "execution_count": 142,
   "metadata": {
    "collapsed": false
   },
   "outputs": [
    {
     "data": {
      "text/plain": [
       "[1, 1, 0, 1, 0, 0, 1, 0, 0, 0, 0, 0]"
      ]
     },
     "execution_count": 142,
     "metadata": {},
     "output_type": "execute_result"
    }
   ],
   "source": [
    "game_genres_to_int[0]"
   ]
  },
  {
   "cell_type": "code",
   "execution_count": 144,
   "metadata": {
    "collapsed": false
   },
   "outputs": [
    {
     "data": {
      "text/plain": [
       "['Action', 'Adventure', 'Early Access', 'Massively Multiplayer', 'Violent']"
      ]
     },
     "execution_count": 144,
     "metadata": {},
     "output_type": "execute_result"
    }
   ],
   "source": [
    "game_genres[0]"
   ]
  },
  {
   "cell_type": "code",
   "execution_count": 146,
   "metadata": {
    "collapsed": false
   },
   "outputs": [
    {
     "data": {
      "text/plain": [
       "14776"
      ]
     },
     "execution_count": 146,
     "metadata": {},
     "output_type": "execute_result"
    }
   ],
   "source": [
    "len(game_genres_to_int)"
   ]
  },
  {
   "cell_type": "code",
   "execution_count": null,
   "metadata": {
    "collapsed": true
   },
   "outputs": [],
   "source": []
  }
 ],
 "metadata": {
  "kernelspec": {
   "display_name": "Python 3",
   "language": "python",
   "name": "python3"
  },
  "language_info": {
   "codemirror_mode": {
    "name": "ipython",
    "version": 3
   },
   "file_extension": ".py",
   "mimetype": "text/x-python",
   "name": "python",
   "nbconvert_exporter": "python",
   "pygments_lexer": "ipython3",
   "version": "3.5.3"
  }
 },
 "nbformat": 4,
 "nbformat_minor": 2
}
